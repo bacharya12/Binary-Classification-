{
 "cells": [
  {
   "cell_type": "code",
   "execution_count": 1,
   "id": "0309c5e5",
   "metadata": {},
   "outputs": [
    {
     "name": "stdout",
     "output_type": "stream",
     "text": [
      "Requirement already satisfied: transformers in c:\\users\\biswajeet.acharya\\anaconda3\\lib\\site-packages (4.45.2)\n",
      "Requirement already satisfied: tokenizers<0.21,>=0.20 in c:\\users\\biswajeet.acharya\\anaconda3\\lib\\site-packages (from transformers) (0.20.1)\n",
      "Requirement already satisfied: huggingface-hub<1.0,>=0.23.2 in c:\\users\\biswajeet.acharya\\anaconda3\\lib\\site-packages (from transformers) (0.25.2)\n",
      "Requirement already satisfied: regex!=2019.12.17 in c:\\users\\biswajeet.acharya\\anaconda3\\lib\\site-packages (from transformers) (2022.3.15)\n",
      "Requirement already satisfied: packaging>=20.0 in c:\\users\\biswajeet.acharya\\anaconda3\\lib\\site-packages (from transformers) (21.3)\n",
      "Requirement already satisfied: filelock in c:\\users\\biswajeet.acharya\\anaconda3\\lib\\site-packages (from transformers) (3.6.0)\n",
      "Requirement already satisfied: safetensors>=0.4.1 in c:\\users\\biswajeet.acharya\\anaconda3\\lib\\site-packages (from transformers) (0.4.5)\n",
      "Requirement already satisfied: tqdm>=4.27 in c:\\users\\biswajeet.acharya\\anaconda3\\lib\\site-packages (from transformers) (4.64.0)\n",
      "Requirement already satisfied: numpy>=1.17 in c:\\users\\biswajeet.acharya\\anaconda3\\lib\\site-packages (from transformers) (1.21.5)\n",
      "Requirement already satisfied: pyyaml>=5.1 in c:\\users\\biswajeet.acharya\\anaconda3\\lib\\site-packages (from transformers) (6.0)\n",
      "Requirement already satisfied: requests in c:\\users\\biswajeet.acharya\\anaconda3\\lib\\site-packages (from transformers) (2.27.1)\n",
      "Requirement already satisfied: typing-extensions>=3.7.4.3 in c:\\users\\biswajeet.acharya\\anaconda3\\lib\\site-packages (from huggingface-hub<1.0,>=0.23.2->transformers) (4.7.1)\n",
      "Requirement already satisfied: fsspec>=2023.5.0 in c:\\users\\biswajeet.acharya\\anaconda3\\lib\\site-packages (from huggingface-hub<1.0,>=0.23.2->transformers) (2024.9.0)\n",
      "Requirement already satisfied: pyparsing!=3.0.5,>=2.0.2 in c:\\users\\biswajeet.acharya\\anaconda3\\lib\\site-packages (from packaging>=20.0->transformers) (3.0.4)\n",
      "Requirement already satisfied: colorama in c:\\users\\biswajeet.acharya\\anaconda3\\lib\\site-packages (from tqdm>=4.27->transformers) (0.4.6)\n",
      "Requirement already satisfied: charset-normalizer~=2.0.0 in c:\\users\\biswajeet.acharya\\anaconda3\\lib\\site-packages (from requests->transformers) (2.0.4)\n",
      "Requirement already satisfied: urllib3<1.27,>=1.21.1 in c:\\users\\biswajeet.acharya\\anaconda3\\lib\\site-packages (from requests->transformers) (1.26.9)\n",
      "Requirement already satisfied: idna<4,>=2.5 in c:\\users\\biswajeet.acharya\\anaconda3\\lib\\site-packages (from requests->transformers) (3.3)\n",
      "Requirement already satisfied: certifi>=2017.4.17 in c:\\users\\biswajeet.acharya\\anaconda3\\lib\\site-packages (from requests->transformers) (2021.10.8)\n"
     ]
    },
    {
     "name": "stderr",
     "output_type": "stream",
     "text": [
      "WARNING: Ignoring invalid distribution -rotobuf (c:\\users\\biswajeet.acharya\\anaconda3\\lib\\site-packages)\n",
      "WARNING: Ignoring invalid distribution -rotobuf (c:\\users\\biswajeet.acharya\\anaconda3\\lib\\site-packages)\n",
      "WARNING: Ignoring invalid distribution -rotobuf (c:\\users\\biswajeet.acharya\\anaconda3\\lib\\site-packages)\n",
      "WARNING: Ignoring invalid distribution -rotobuf (c:\\users\\biswajeet.acharya\\anaconda3\\lib\\site-packages)\n",
      "WARNING: Ignoring invalid distribution -rotobuf (c:\\users\\biswajeet.acharya\\anaconda3\\lib\\site-packages)\n",
      "WARNING: Ignoring invalid distribution -rotobuf (c:\\users\\biswajeet.acharya\\anaconda3\\lib\\site-packages)\n"
     ]
    }
   ],
   "source": [
    "!pip install transformers\n",
    "\n",
    "import numpy as np\n",
    "import pandas as pd\n",
    "\n",
    "from tqdm.auto import tqdm\n",
    "import tensorflow as tf\n",
    "from transformers import BertTokenizer\n",
    "     "
   ]
  },
  {
   "cell_type": "code",
   "execution_count": 2,
   "id": "52df727d",
   "metadata": {},
   "outputs": [],
   "source": [
    "df = pd.read_excel('GRID.xlsx', index_col=0)"
   ]
  },
  {
   "cell_type": "code",
   "execution_count": 3,
   "id": "c27145cb",
   "metadata": {},
   "outputs": [
    {
     "data": {
      "text/html": [
       "<div>\n",
       "<style scoped>\n",
       "    .dataframe tbody tr th:only-of-type {\n",
       "        vertical-align: middle;\n",
       "    }\n",
       "\n",
       "    .dataframe tbody tr th {\n",
       "        vertical-align: top;\n",
       "    }\n",
       "\n",
       "    .dataframe thead th {\n",
       "        text-align: right;\n",
       "    }\n",
       "</style>\n",
       "<table border=\"1\" class=\"dataframe\">\n",
       "  <thead>\n",
       "    <tr style=\"text-align: right;\">\n",
       "      <th></th>\n",
       "      <th>Incident#</th>\n",
       "      <th>Parent Incident#</th>\n",
       "      <th>Severity</th>\n",
       "      <th>Title</th>\n",
       "      <th>Process</th>\n",
       "      <th>Organization Hierarchy</th>\n",
       "      <th>Event Type</th>\n",
       "      <th>Client Impact</th>\n",
       "    </tr>\n",
       "    <tr>\n",
       "      <th>Root Cause Description</th>\n",
       "      <th></th>\n",
       "      <th></th>\n",
       "      <th></th>\n",
       "      <th></th>\n",
       "      <th></th>\n",
       "      <th></th>\n",
       "      <th></th>\n",
       "      <th></th>\n",
       "    </tr>\n",
       "  </thead>\n",
       "  <tbody>\n",
       "    <tr>\n",
       "      <th>System maintenance</th>\n",
       "      <td>ORX-COMPEVENT-6864</td>\n",
       "      <td>ORX-COMPEVENT-6864</td>\n",
       "      <td>Moderate</td>\n",
       "      <td>Update TracX for 2023</td>\n",
       "      <td>Compliance Events</td>\n",
       "      <td>Compliance</td>\n",
       "      <td>Project / General Oversight / Reporting</td>\n",
       "      <td>No</td>\n",
       "    </tr>\n",
       "    <tr>\n",
       "      <th>required by a client as it relates to OWCA activities</th>\n",
       "      <td>ORX-COMPEVENT-6113</td>\n",
       "      <td>ORX-COMPEVENT-6113</td>\n",
       "      <td>Low</td>\n",
       "      <td>OWCA zurich survey (sustainability)</td>\n",
       "      <td>Compliance Events</td>\n",
       "      <td>Compliance</td>\n",
       "      <td>Client Identified Event / Issue / Inquiry</td>\n",
       "      <td>Yes</td>\n",
       "    </tr>\n",
       "    <tr>\n",
       "      <th>Resources and complexity of solution have created delays, implementatin in progress.</th>\n",
       "      <td>ORX-COMPEVENT-7322</td>\n",
       "      <td>ORX-COMPEVENT-7322</td>\n",
       "      <td>Moderate</td>\n",
       "      <td>Network Pricing Parity TN HB 786</td>\n",
       "      <td>Compliance Events</td>\n",
       "      <td>Compliance</td>\n",
       "      <td>Self Identified Event / Issue</td>\n",
       "      <td>Yes</td>\n",
       "    </tr>\n",
       "    <tr>\n",
       "      <th>NaN</th>\n",
       "      <td>ORX-COMPEVENT-8328</td>\n",
       "      <td>ORX-COMPEVENT-8328</td>\n",
       "      <td>Low</td>\n",
       "      <td>EP Investigation Case 186799</td>\n",
       "      <td>Compliance Events</td>\n",
       "      <td>Compliance</td>\n",
       "      <td>Self Identified Event / Issue</td>\n",
       "      <td>No</td>\n",
       "    </tr>\n",
       "    <tr>\n",
       "      <th>NaN</th>\n",
       "      <td>ORX-COMPEVENT-7051</td>\n",
       "      <td>ORX-COMPEVENT-7051</td>\n",
       "      <td>Moderate</td>\n",
       "      <td>30066 Specialty Standard Product Approval - Di...</td>\n",
       "      <td>Compliance Events</td>\n",
       "      <td>Compliance</td>\n",
       "      <td>Project / General Oversight / Reporting</td>\n",
       "      <td>No</td>\n",
       "    </tr>\n",
       "  </tbody>\n",
       "</table>\n",
       "</div>"
      ],
      "text/plain": [
       "                                                             Incident#  \\\n",
       "Root Cause Description                                                   \n",
       "System maintenance                                  ORX-COMPEVENT-6864   \n",
       "required by a client as it relates to OWCA acti...  ORX-COMPEVENT-6113   \n",
       "Resources and complexity of solution have creat...  ORX-COMPEVENT-7322   \n",
       "NaN                                                 ORX-COMPEVENT-8328   \n",
       "NaN                                                 ORX-COMPEVENT-7051   \n",
       "\n",
       "                                                      Parent Incident#  \\\n",
       "Root Cause Description                                                   \n",
       "System maintenance                                  ORX-COMPEVENT-6864   \n",
       "required by a client as it relates to OWCA acti...  ORX-COMPEVENT-6113   \n",
       "Resources and complexity of solution have creat...  ORX-COMPEVENT-7322   \n",
       "NaN                                                 ORX-COMPEVENT-8328   \n",
       "NaN                                                 ORX-COMPEVENT-7051   \n",
       "\n",
       "                                                    Severity  \\\n",
       "Root Cause Description                                         \n",
       "System maintenance                                  Moderate   \n",
       "required by a client as it relates to OWCA acti...       Low   \n",
       "Resources and complexity of solution have creat...  Moderate   \n",
       "NaN                                                      Low   \n",
       "NaN                                                 Moderate   \n",
       "\n",
       "                                                                                                Title  \\\n",
       "Root Cause Description                                                                                  \n",
       "System maintenance                                                              Update TracX for 2023   \n",
       "required by a client as it relates to OWCA acti...                OWCA zurich survey (sustainability)   \n",
       "Resources and complexity of solution have creat...                   Network Pricing Parity TN HB 786   \n",
       "NaN                                                                      EP Investigation Case 186799   \n",
       "NaN                                                 30066 Specialty Standard Product Approval - Di...   \n",
       "\n",
       "                                                              Process  \\\n",
       "Root Cause Description                                                  \n",
       "System maintenance                                  Compliance Events   \n",
       "required by a client as it relates to OWCA acti...  Compliance Events   \n",
       "Resources and complexity of solution have creat...  Compliance Events   \n",
       "NaN                                                 Compliance Events   \n",
       "NaN                                                 Compliance Events   \n",
       "\n",
       "                                                   Organization Hierarchy  \\\n",
       "Root Cause Description                                                      \n",
       "System maintenance                                             Compliance   \n",
       "required by a client as it relates to OWCA acti...             Compliance   \n",
       "Resources and complexity of solution have creat...             Compliance   \n",
       "NaN                                                            Compliance   \n",
       "NaN                                                            Compliance   \n",
       "\n",
       "                                                                                   Event Type  \\\n",
       "Root Cause Description                                                                          \n",
       "System maintenance                                    Project / General Oversight / Reporting   \n",
       "required by a client as it relates to OWCA acti...  Client Identified Event / Issue / Inquiry   \n",
       "Resources and complexity of solution have creat...              Self Identified Event / Issue   \n",
       "NaN                                                             Self Identified Event / Issue   \n",
       "NaN                                                   Project / General Oversight / Reporting   \n",
       "\n",
       "                                                   Client Impact  \n",
       "Root Cause Description                                            \n",
       "System maintenance                                            No  \n",
       "required by a client as it relates to OWCA acti...           Yes  \n",
       "Resources and complexity of solution have creat...           Yes  \n",
       "NaN                                                           No  \n",
       "NaN                                                           No  "
      ]
     },
     "execution_count": 3,
     "metadata": {},
     "output_type": "execute_result"
    }
   ],
   "source": [
    "df.head()"
   ]
  },
  {
   "cell_type": "code",
   "execution_count": 4,
   "id": "b2bd1b2a",
   "metadata": {},
   "outputs": [
    {
     "name": "stdout",
     "output_type": "stream",
     "text": [
      "<class 'pandas.core.frame.DataFrame'>\n",
      "Index: 3951 entries, System maintenance to Tufts employees are new to ORx and requested compliance meeting/presentation\n",
      "Data columns (total 8 columns):\n",
      " #   Column                  Non-Null Count  Dtype \n",
      "---  ------                  --------------  ----- \n",
      " 0   Incident#               3951 non-null   object\n",
      " 1   Parent Incident#        3951 non-null   object\n",
      " 2   Severity                3951 non-null   object\n",
      " 3   Title                   3950 non-null   object\n",
      " 4   Process                 3951 non-null   object\n",
      " 5   Organization Hierarchy  3951 non-null   object\n",
      " 6   Event Type              3942 non-null   object\n",
      " 7   Client Impact           3934 non-null   object\n",
      "dtypes: object(8)\n",
      "memory usage: 277.8+ KB\n"
     ]
    }
   ],
   "source": [
    "df.info()"
   ]
  },
  {
   "cell_type": "code",
   "execution_count": null,
   "id": "f6c5444b",
   "metadata": {},
   "outputs": [],
   "source": []
  },
  {
   "cell_type": "code",
   "execution_count": 5,
   "id": "51c86484",
   "metadata": {},
   "outputs": [
    {
     "data": {
      "text/plain": [
       "No     2321\n",
       "Yes    1241\n",
       "TBD     372\n",
       "Name: Client Impact, dtype: int64"
      ]
     },
     "execution_count": 5,
     "metadata": {},
     "output_type": "execute_result"
    }
   ],
   "source": [
    "df['Client Impact'].value_counts()\n"
   ]
  },
  {
   "cell_type": "code",
   "execution_count": 6,
   "id": "3feccb2a",
   "metadata": {},
   "outputs": [
    {
     "data": {
      "text/plain": [
       "Project / General Oversight / Reporting      1905\n",
       "Self Identified Event / Issue                 728\n",
       "Audit Oversight / Support                     474\n",
       "Client Identified Event / Issue / Inquiry     411\n",
       "Other                                         134\n",
       "Regulatory Agency Fine or Penalty              96\n",
       "Regulatory Agency Complaint                    74\n",
       "Regulatory Agency Warning / NONC               38\n",
       "Regulatory Agency Non-Disciplinary Notice      36\n",
       "Regulatory Agency Formal Inquiry               18\n",
       "Legal / Law Firm Event / Issue                 15\n",
       "Regulatory Agency Letter of Admonishment        7\n",
       "Member Direct Report to Compliance              6\n",
       "Name: Event Type, dtype: int64"
      ]
     },
     "execution_count": 6,
     "metadata": {},
     "output_type": "execute_result"
    }
   ],
   "source": [
    "df['Event Type'].value_counts()"
   ]
  },
  {
   "cell_type": "code",
   "execution_count": 7,
   "id": "6d4a0284",
   "metadata": {},
   "outputs": [],
   "source": [
    "df.drop([\"Incident#\", \"Parent Incident#\",\"Severity\",\"Process\",\"Organization Hierarchy\"], axis = 1, inplace = True)\n"
   ]
  },
  {
   "cell_type": "code",
   "execution_count": 8,
   "id": "d83d395e",
   "metadata": {},
   "outputs": [
    {
     "data": {
      "text/html": [
       "<div>\n",
       "<style scoped>\n",
       "    .dataframe tbody tr th:only-of-type {\n",
       "        vertical-align: middle;\n",
       "    }\n",
       "\n",
       "    .dataframe tbody tr th {\n",
       "        vertical-align: top;\n",
       "    }\n",
       "\n",
       "    .dataframe thead th {\n",
       "        text-align: right;\n",
       "    }\n",
       "</style>\n",
       "<table border=\"1\" class=\"dataframe\">\n",
       "  <thead>\n",
       "    <tr style=\"text-align: right;\">\n",
       "      <th></th>\n",
       "      <th>Title</th>\n",
       "      <th>Event Type</th>\n",
       "      <th>Client Impact</th>\n",
       "    </tr>\n",
       "    <tr>\n",
       "      <th>Root Cause Description</th>\n",
       "      <th></th>\n",
       "      <th></th>\n",
       "      <th></th>\n",
       "    </tr>\n",
       "  </thead>\n",
       "  <tbody>\n",
       "    <tr>\n",
       "      <th>System maintenance</th>\n",
       "      <td>Update TracX for 2023</td>\n",
       "      <td>Project / General Oversight / Reporting</td>\n",
       "      <td>No</td>\n",
       "    </tr>\n",
       "    <tr>\n",
       "      <th>required by a client as it relates to OWCA activities</th>\n",
       "      <td>OWCA zurich survey (sustainability)</td>\n",
       "      <td>Client Identified Event / Issue / Inquiry</td>\n",
       "      <td>Yes</td>\n",
       "    </tr>\n",
       "    <tr>\n",
       "      <th>Resources and complexity of solution have created delays, implementatin in progress.</th>\n",
       "      <td>Network Pricing Parity TN HB 786</td>\n",
       "      <td>Self Identified Event / Issue</td>\n",
       "      <td>Yes</td>\n",
       "    </tr>\n",
       "    <tr>\n",
       "      <th>NaN</th>\n",
       "      <td>EP Investigation Case 186799</td>\n",
       "      <td>Self Identified Event / Issue</td>\n",
       "      <td>No</td>\n",
       "    </tr>\n",
       "    <tr>\n",
       "      <th>NaN</th>\n",
       "      <td>30066 Specialty Standard Product Approval - Di...</td>\n",
       "      <td>Project / General Oversight / Reporting</td>\n",
       "      <td>No</td>\n",
       "    </tr>\n",
       "  </tbody>\n",
       "</table>\n",
       "</div>"
      ],
      "text/plain": [
       "                                                                                                Title  \\\n",
       "Root Cause Description                                                                                  \n",
       "System maintenance                                                              Update TracX for 2023   \n",
       "required by a client as it relates to OWCA acti...                OWCA zurich survey (sustainability)   \n",
       "Resources and complexity of solution have creat...                   Network Pricing Parity TN HB 786   \n",
       "NaN                                                                      EP Investigation Case 186799   \n",
       "NaN                                                 30066 Specialty Standard Product Approval - Di...   \n",
       "\n",
       "                                                                                   Event Type  \\\n",
       "Root Cause Description                                                                          \n",
       "System maintenance                                    Project / General Oversight / Reporting   \n",
       "required by a client as it relates to OWCA acti...  Client Identified Event / Issue / Inquiry   \n",
       "Resources and complexity of solution have creat...              Self Identified Event / Issue   \n",
       "NaN                                                             Self Identified Event / Issue   \n",
       "NaN                                                   Project / General Oversight / Reporting   \n",
       "\n",
       "                                                   Client Impact  \n",
       "Root Cause Description                                            \n",
       "System maintenance                                            No  \n",
       "required by a client as it relates to OWCA acti...           Yes  \n",
       "Resources and complexity of solution have creat...           Yes  \n",
       "NaN                                                           No  \n",
       "NaN                                                           No  "
      ]
     },
     "execution_count": 8,
     "metadata": {},
     "output_type": "execute_result"
    }
   ],
   "source": [
    "df.head()"
   ]
  },
  {
   "cell_type": "code",
   "execution_count": 9,
   "id": "f7dfa802",
   "metadata": {},
   "outputs": [
    {
     "name": "stdout",
     "output_type": "stream",
     "text": [
      "<class 'pandas.core.frame.DataFrame'>\n",
      "Index: 3951 entries, System maintenance to Tufts employees are new to ORx and requested compliance meeting/presentation\n",
      "Data columns (total 3 columns):\n",
      " #   Column         Non-Null Count  Dtype \n",
      "---  ------         --------------  ----- \n",
      " 0   Title          3950 non-null   object\n",
      " 1   Event Type     3942 non-null   object\n",
      " 2   Client Impact  3934 non-null   object\n",
      "dtypes: object(3)\n",
      "memory usage: 123.5+ KB\n"
     ]
    }
   ],
   "source": [
    "df.info()"
   ]
  },
  {
   "cell_type": "code",
   "execution_count": 10,
   "id": "664106cf",
   "metadata": {},
   "outputs": [],
   "source": [
    "df = df.dropna()"
   ]
  },
  {
   "cell_type": "code",
   "execution_count": 11,
   "id": "1fe1a750",
   "metadata": {},
   "outputs": [
    {
     "data": {
      "text/html": [
       "<div>\n",
       "<style scoped>\n",
       "    .dataframe tbody tr th:only-of-type {\n",
       "        vertical-align: middle;\n",
       "    }\n",
       "\n",
       "    .dataframe tbody tr th {\n",
       "        vertical-align: top;\n",
       "    }\n",
       "\n",
       "    .dataframe thead th {\n",
       "        text-align: right;\n",
       "    }\n",
       "</style>\n",
       "<table border=\"1\" class=\"dataframe\">\n",
       "  <thead>\n",
       "    <tr style=\"text-align: right;\">\n",
       "      <th></th>\n",
       "      <th>Title</th>\n",
       "      <th>Event Type</th>\n",
       "      <th>Client Impact</th>\n",
       "    </tr>\n",
       "    <tr>\n",
       "      <th>Root Cause Description</th>\n",
       "      <th></th>\n",
       "      <th></th>\n",
       "      <th></th>\n",
       "    </tr>\n",
       "  </thead>\n",
       "  <tbody>\n",
       "    <tr>\n",
       "      <th>System maintenance</th>\n",
       "      <td>Update TracX for 2023</td>\n",
       "      <td>Project / General Oversight / Reporting</td>\n",
       "      <td>No</td>\n",
       "    </tr>\n",
       "    <tr>\n",
       "      <th>required by a client as it relates to OWCA activities</th>\n",
       "      <td>OWCA zurich survey (sustainability)</td>\n",
       "      <td>Client Identified Event / Issue / Inquiry</td>\n",
       "      <td>Yes</td>\n",
       "    </tr>\n",
       "    <tr>\n",
       "      <th>Resources and complexity of solution have created delays, implementatin in progress.</th>\n",
       "      <td>Network Pricing Parity TN HB 786</td>\n",
       "      <td>Self Identified Event / Issue</td>\n",
       "      <td>Yes</td>\n",
       "    </tr>\n",
       "    <tr>\n",
       "      <th>NaN</th>\n",
       "      <td>EP Investigation Case 186799</td>\n",
       "      <td>Self Identified Event / Issue</td>\n",
       "      <td>No</td>\n",
       "    </tr>\n",
       "    <tr>\n",
       "      <th>NaN</th>\n",
       "      <td>30066 Specialty Standard Product Approval - Di...</td>\n",
       "      <td>Project / General Oversight / Reporting</td>\n",
       "      <td>No</td>\n",
       "    </tr>\n",
       "  </tbody>\n",
       "</table>\n",
       "</div>"
      ],
      "text/plain": [
       "                                                                                                Title  \\\n",
       "Root Cause Description                                                                                  \n",
       "System maintenance                                                              Update TracX for 2023   \n",
       "required by a client as it relates to OWCA acti...                OWCA zurich survey (sustainability)   \n",
       "Resources and complexity of solution have creat...                   Network Pricing Parity TN HB 786   \n",
       "NaN                                                                      EP Investigation Case 186799   \n",
       "NaN                                                 30066 Specialty Standard Product Approval - Di...   \n",
       "\n",
       "                                                                                   Event Type  \\\n",
       "Root Cause Description                                                                          \n",
       "System maintenance                                    Project / General Oversight / Reporting   \n",
       "required by a client as it relates to OWCA acti...  Client Identified Event / Issue / Inquiry   \n",
       "Resources and complexity of solution have creat...              Self Identified Event / Issue   \n",
       "NaN                                                             Self Identified Event / Issue   \n",
       "NaN                                                   Project / General Oversight / Reporting   \n",
       "\n",
       "                                                   Client Impact  \n",
       "Root Cause Description                                            \n",
       "System maintenance                                            No  \n",
       "required by a client as it relates to OWCA acti...           Yes  \n",
       "Resources and complexity of solution have creat...           Yes  \n",
       "NaN                                                           No  \n",
       "NaN                                                           No  "
      ]
     },
     "execution_count": 11,
     "metadata": {},
     "output_type": "execute_result"
    }
   ],
   "source": [
    "#df.head()"
   ]
  },
  {
   "cell_type": "code",
   "execution_count": null,
   "id": "dd76f6e4",
   "metadata": {},
   "outputs": [],
   "source": [
    "df.shape"
   ]
  },
  {
   "cell_type": "code",
   "execution_count": 12,
   "id": "7121262b",
   "metadata": {},
   "outputs": [],
   "source": [
    "tokenizer = BertTokenizer.from_pretrained('bert-base-cased')\n"
   ]
  },
  {
   "cell_type": "code",
   "execution_count": 13,
   "id": "d721a94d",
   "metadata": {},
   "outputs": [],
   "source": [
    "token = tokenizer.encode_plus(\n",
    "    df['Title'].iloc[0], \n",
    "    max_length=256, \n",
    "    truncation=True, \n",
    "    padding='max_length', \n",
    "    add_special_tokens=True,\n",
    "    return_tensors='tf'\n",
    ")\n",
    "     \n"
   ]
  },
  {
   "cell_type": "code",
   "execution_count": 14,
   "id": "92d24d09",
   "metadata": {},
   "outputs": [
    {
     "data": {
      "text/plain": [
       "<tf.Tensor: shape=(1, 256), dtype=int32, numpy=\n",
       "array([[  101,  3725,  9216,   157, 19366,  3190,  1111, 17881,  1495,\n",
       "          102,     0,     0,     0,     0,     0,     0,     0,     0,\n",
       "            0,     0,     0,     0,     0,     0,     0,     0,     0,\n",
       "            0,     0,     0,     0,     0,     0,     0,     0,     0,\n",
       "            0,     0,     0,     0,     0,     0,     0,     0,     0,\n",
       "            0,     0,     0,     0,     0,     0,     0,     0,     0,\n",
       "            0,     0,     0,     0,     0,     0,     0,     0,     0,\n",
       "            0,     0,     0,     0,     0,     0,     0,     0,     0,\n",
       "            0,     0,     0,     0,     0,     0,     0,     0,     0,\n",
       "            0,     0,     0,     0,     0,     0,     0,     0,     0,\n",
       "            0,     0,     0,     0,     0,     0,     0,     0,     0,\n",
       "            0,     0,     0,     0,     0,     0,     0,     0,     0,\n",
       "            0,     0,     0,     0,     0,     0,     0,     0,     0,\n",
       "            0,     0,     0,     0,     0,     0,     0,     0,     0,\n",
       "            0,     0,     0,     0,     0,     0,     0,     0,     0,\n",
       "            0,     0,     0,     0,     0,     0,     0,     0,     0,\n",
       "            0,     0,     0,     0,     0,     0,     0,     0,     0,\n",
       "            0,     0,     0,     0,     0,     0,     0,     0,     0,\n",
       "            0,     0,     0,     0,     0,     0,     0,     0,     0,\n",
       "            0,     0,     0,     0,     0,     0,     0,     0,     0,\n",
       "            0,     0,     0,     0,     0,     0,     0,     0,     0,\n",
       "            0,     0,     0,     0,     0,     0,     0,     0,     0,\n",
       "            0,     0,     0,     0,     0,     0,     0,     0,     0,\n",
       "            0,     0,     0,     0,     0,     0,     0,     0,     0,\n",
       "            0,     0,     0,     0,     0,     0,     0,     0,     0,\n",
       "            0,     0,     0,     0,     0,     0,     0,     0,     0,\n",
       "            0,     0,     0,     0,     0,     0,     0,     0,     0,\n",
       "            0,     0,     0,     0,     0,     0,     0,     0,     0,\n",
       "            0,     0,     0,     0]])>"
      ]
     },
     "execution_count": 14,
     "metadata": {},
     "output_type": "execute_result"
    }
   ],
   "source": [
    "token.input_ids\n"
   ]
  },
  {
   "cell_type": "code",
   "execution_count": 15,
   "id": "9bd34c8c",
   "metadata": {},
   "outputs": [],
   "source": [
    "X_input_ids = np.zeros((len(df), 256))\n",
    "X_attn_masks = np.zeros((len(df), 256))\n",
    "     "
   ]
  },
  {
   "cell_type": "code",
   "execution_count": 16,
   "id": "5bd94f24",
   "metadata": {},
   "outputs": [],
   "source": [
    "def generate_training_data(df, ids, masks, tokenizer):\n",
    "    for i, text in tqdm(enumerate(df['Title'])):\n",
    "        tokenized_text = tokenizer.encode_plus(\n",
    "            text,\n",
    "            max_length=256, \n",
    "            truncation=True, \n",
    "            padding='max_length', \n",
    "            add_special_tokens=True,\n",
    "            return_tensors='tf'\n",
    "        )\n",
    "        ids[i, :] = tokenized_text.input_ids\n",
    "        masks[i, :] = tokenized_text.attention_mask\n",
    "    return ids, masks\n"
   ]
  },
  {
   "cell_type": "code",
   "execution_count": 17,
   "id": "37ffab1b",
   "metadata": {},
   "outputs": [
    {
     "data": {
      "application/vnd.jupyter.widget-view+json": {
       "model_id": "512fc3caa17747538355db96da55fa28",
       "version_major": 2,
       "version_minor": 0
      },
      "text/plain": [
       "0it [00:00, ?it/s]"
      ]
     },
     "metadata": {},
     "output_type": "display_data"
    }
   ],
   "source": [
    "X_input_ids, X_attn_masks = generate_training_data(df, X_input_ids, X_attn_masks, tokenizer)\n"
   ]
  },
  {
   "cell_type": "code",
   "execution_count": 18,
   "id": "f99e703e",
   "metadata": {},
   "outputs": [
    {
     "data": {
      "text/plain": [
       "(3933, 3)"
      ]
     },
     "execution_count": 18,
     "metadata": {},
     "output_type": "execute_result"
    }
   ],
   "source": [
    "labels = np.zeros((len(df),3))\n",
    "labels.shape\n"
   ]
  },
  {
   "cell_type": "code",
   "execution_count": 19,
   "id": "c848c648",
   "metadata": {},
   "outputs": [
    {
     "data": {
      "text/html": [
       "<div>\n",
       "<style scoped>\n",
       "    .dataframe tbody tr th:only-of-type {\n",
       "        vertical-align: middle;\n",
       "    }\n",
       "\n",
       "    .dataframe tbody tr th {\n",
       "        vertical-align: top;\n",
       "    }\n",
       "\n",
       "    .dataframe thead th {\n",
       "        text-align: right;\n",
       "    }\n",
       "</style>\n",
       "<table border=\"1\" class=\"dataframe\">\n",
       "  <thead>\n",
       "    <tr style=\"text-align: right;\">\n",
       "      <th></th>\n",
       "      <th>Title</th>\n",
       "      <th>Event Type</th>\n",
       "      <th>Client Impact</th>\n",
       "    </tr>\n",
       "    <tr>\n",
       "      <th>Root Cause Description</th>\n",
       "      <th></th>\n",
       "      <th></th>\n",
       "      <th></th>\n",
       "    </tr>\n",
       "  </thead>\n",
       "  <tbody>\n",
       "    <tr>\n",
       "      <th>System maintenance</th>\n",
       "      <td>Update TracX for 2023</td>\n",
       "      <td>Project / General Oversight / Reporting</td>\n",
       "      <td>No</td>\n",
       "    </tr>\n",
       "    <tr>\n",
       "      <th>required by a client as it relates to OWCA activities</th>\n",
       "      <td>OWCA zurich survey (sustainability)</td>\n",
       "      <td>Client Identified Event / Issue / Inquiry</td>\n",
       "      <td>Yes</td>\n",
       "    </tr>\n",
       "    <tr>\n",
       "      <th>Resources and complexity of solution have created delays, implementatin in progress.</th>\n",
       "      <td>Network Pricing Parity TN HB 786</td>\n",
       "      <td>Self Identified Event / Issue</td>\n",
       "      <td>Yes</td>\n",
       "    </tr>\n",
       "    <tr>\n",
       "      <th>NaN</th>\n",
       "      <td>EP Investigation Case 186799</td>\n",
       "      <td>Self Identified Event / Issue</td>\n",
       "      <td>No</td>\n",
       "    </tr>\n",
       "    <tr>\n",
       "      <th>NaN</th>\n",
       "      <td>30066 Specialty Standard Product Approval - Di...</td>\n",
       "      <td>Project / General Oversight / Reporting</td>\n",
       "      <td>No</td>\n",
       "    </tr>\n",
       "  </tbody>\n",
       "</table>\n",
       "</div>"
      ],
      "text/plain": [
       "                                                                                                Title  \\\n",
       "Root Cause Description                                                                                  \n",
       "System maintenance                                                              Update TracX for 2023   \n",
       "required by a client as it relates to OWCA acti...                OWCA zurich survey (sustainability)   \n",
       "Resources and complexity of solution have creat...                   Network Pricing Parity TN HB 786   \n",
       "NaN                                                                      EP Investigation Case 186799   \n",
       "NaN                                                 30066 Specialty Standard Product Approval - Di...   \n",
       "\n",
       "                                                                                   Event Type  \\\n",
       "Root Cause Description                                                                          \n",
       "System maintenance                                    Project / General Oversight / Reporting   \n",
       "required by a client as it relates to OWCA acti...  Client Identified Event / Issue / Inquiry   \n",
       "Resources and complexity of solution have creat...              Self Identified Event / Issue   \n",
       "NaN                                                             Self Identified Event / Issue   \n",
       "NaN                                                   Project / General Oversight / Reporting   \n",
       "\n",
       "                                                   Client Impact  \n",
       "Root Cause Description                                            \n",
       "System maintenance                                            No  \n",
       "required by a client as it relates to OWCA acti...           Yes  \n",
       "Resources and complexity of solution have creat...           Yes  \n",
       "NaN                                                           No  \n",
       "NaN                                                           No  "
      ]
     },
     "execution_count": 19,
     "metadata": {},
     "output_type": "execute_result"
    }
   ],
   "source": [
    "df.head()"
   ]
  },
  {
   "cell_type": "code",
   "execution_count": 20,
   "id": "81600f85",
   "metadata": {},
   "outputs": [],
   "source": [
    "dummy = pd.get_dummies(df[\"Client Impact\"])"
   ]
  },
  {
   "cell_type": "code",
   "execution_count": 21,
   "id": "36c990ba",
   "metadata": {},
   "outputs": [
    {
     "data": {
      "text/html": [
       "<div>\n",
       "<style scoped>\n",
       "    .dataframe tbody tr th:only-of-type {\n",
       "        vertical-align: middle;\n",
       "    }\n",
       "\n",
       "    .dataframe tbody tr th {\n",
       "        vertical-align: top;\n",
       "    }\n",
       "\n",
       "    .dataframe thead th {\n",
       "        text-align: right;\n",
       "    }\n",
       "</style>\n",
       "<table border=\"1\" class=\"dataframe\">\n",
       "  <thead>\n",
       "    <tr style=\"text-align: right;\">\n",
       "      <th></th>\n",
       "      <th>No</th>\n",
       "      <th>TBD</th>\n",
       "      <th>Yes</th>\n",
       "    </tr>\n",
       "    <tr>\n",
       "      <th>Root Cause Description</th>\n",
       "      <th></th>\n",
       "      <th></th>\n",
       "      <th></th>\n",
       "    </tr>\n",
       "  </thead>\n",
       "  <tbody>\n",
       "    <tr>\n",
       "      <th>System maintenance</th>\n",
       "      <td>1</td>\n",
       "      <td>0</td>\n",
       "      <td>0</td>\n",
       "    </tr>\n",
       "    <tr>\n",
       "      <th>required by a client as it relates to OWCA activities</th>\n",
       "      <td>0</td>\n",
       "      <td>0</td>\n",
       "      <td>1</td>\n",
       "    </tr>\n",
       "    <tr>\n",
       "      <th>Resources and complexity of solution have created delays, implementatin in progress.</th>\n",
       "      <td>0</td>\n",
       "      <td>0</td>\n",
       "      <td>1</td>\n",
       "    </tr>\n",
       "    <tr>\n",
       "      <th>NaN</th>\n",
       "      <td>1</td>\n",
       "      <td>0</td>\n",
       "      <td>0</td>\n",
       "    </tr>\n",
       "    <tr>\n",
       "      <th>NaN</th>\n",
       "      <td>1</td>\n",
       "      <td>0</td>\n",
       "      <td>0</td>\n",
       "    </tr>\n",
       "  </tbody>\n",
       "</table>\n",
       "</div>"
      ],
      "text/plain": [
       "                                                    No  TBD  Yes\n",
       "Root Cause Description                                          \n",
       "System maintenance                                   1    0    0\n",
       "required by a client as it relates to OWCA acti...   0    0    1\n",
       "Resources and complexity of solution have creat...   0    0    1\n",
       "NaN                                                  1    0    0\n",
       "NaN                                                  1    0    0"
      ]
     },
     "execution_count": 21,
     "metadata": {},
     "output_type": "execute_result"
    }
   ],
   "source": [
    "dummy.head()"
   ]
  },
  {
   "cell_type": "code",
   "execution_count": 22,
   "id": "66711d5e",
   "metadata": {},
   "outputs": [],
   "source": [
    "df = pd.concat((df, dummy),axis = 1)"
   ]
  },
  {
   "cell_type": "code",
   "execution_count": 23,
   "id": "21c18d64",
   "metadata": {},
   "outputs": [
    {
     "data": {
      "text/html": [
       "<div>\n",
       "<style scoped>\n",
       "    .dataframe tbody tr th:only-of-type {\n",
       "        vertical-align: middle;\n",
       "    }\n",
       "\n",
       "    .dataframe tbody tr th {\n",
       "        vertical-align: top;\n",
       "    }\n",
       "\n",
       "    .dataframe thead th {\n",
       "        text-align: right;\n",
       "    }\n",
       "</style>\n",
       "<table border=\"1\" class=\"dataframe\">\n",
       "  <thead>\n",
       "    <tr style=\"text-align: right;\">\n",
       "      <th></th>\n",
       "      <th>Title</th>\n",
       "      <th>Event Type</th>\n",
       "      <th>Client Impact</th>\n",
       "      <th>No</th>\n",
       "      <th>TBD</th>\n",
       "      <th>Yes</th>\n",
       "    </tr>\n",
       "    <tr>\n",
       "      <th>Root Cause Description</th>\n",
       "      <th></th>\n",
       "      <th></th>\n",
       "      <th></th>\n",
       "      <th></th>\n",
       "      <th></th>\n",
       "      <th></th>\n",
       "    </tr>\n",
       "  </thead>\n",
       "  <tbody>\n",
       "    <tr>\n",
       "      <th>System maintenance</th>\n",
       "      <td>Update TracX for 2023</td>\n",
       "      <td>Project / General Oversight / Reporting</td>\n",
       "      <td>No</td>\n",
       "      <td>1</td>\n",
       "      <td>0</td>\n",
       "      <td>0</td>\n",
       "    </tr>\n",
       "    <tr>\n",
       "      <th>required by a client as it relates to OWCA activities</th>\n",
       "      <td>OWCA zurich survey (sustainability)</td>\n",
       "      <td>Client Identified Event / Issue / Inquiry</td>\n",
       "      <td>Yes</td>\n",
       "      <td>0</td>\n",
       "      <td>0</td>\n",
       "      <td>1</td>\n",
       "    </tr>\n",
       "    <tr>\n",
       "      <th>Resources and complexity of solution have created delays, implementatin in progress.</th>\n",
       "      <td>Network Pricing Parity TN HB 786</td>\n",
       "      <td>Self Identified Event / Issue</td>\n",
       "      <td>Yes</td>\n",
       "      <td>0</td>\n",
       "      <td>0</td>\n",
       "      <td>1</td>\n",
       "    </tr>\n",
       "    <tr>\n",
       "      <th>NaN</th>\n",
       "      <td>EP Investigation Case 186799</td>\n",
       "      <td>Self Identified Event / Issue</td>\n",
       "      <td>No</td>\n",
       "      <td>1</td>\n",
       "      <td>0</td>\n",
       "      <td>0</td>\n",
       "    </tr>\n",
       "    <tr>\n",
       "      <th>NaN</th>\n",
       "      <td>30066 Specialty Standard Product Approval - Di...</td>\n",
       "      <td>Project / General Oversight / Reporting</td>\n",
       "      <td>No</td>\n",
       "      <td>1</td>\n",
       "      <td>0</td>\n",
       "      <td>0</td>\n",
       "    </tr>\n",
       "  </tbody>\n",
       "</table>\n",
       "</div>"
      ],
      "text/plain": [
       "                                                                                                Title  \\\n",
       "Root Cause Description                                                                                  \n",
       "System maintenance                                                              Update TracX for 2023   \n",
       "required by a client as it relates to OWCA acti...                OWCA zurich survey (sustainability)   \n",
       "Resources and complexity of solution have creat...                   Network Pricing Parity TN HB 786   \n",
       "NaN                                                                      EP Investigation Case 186799   \n",
       "NaN                                                 30066 Specialty Standard Product Approval - Di...   \n",
       "\n",
       "                                                                                   Event Type  \\\n",
       "Root Cause Description                                                                          \n",
       "System maintenance                                    Project / General Oversight / Reporting   \n",
       "required by a client as it relates to OWCA acti...  Client Identified Event / Issue / Inquiry   \n",
       "Resources and complexity of solution have creat...              Self Identified Event / Issue   \n",
       "NaN                                                             Self Identified Event / Issue   \n",
       "NaN                                                   Project / General Oversight / Reporting   \n",
       "\n",
       "                                                   Client Impact  No  TBD  Yes  \n",
       "Root Cause Description                                                          \n",
       "System maintenance                                            No   1    0    0  \n",
       "required by a client as it relates to OWCA acti...           Yes   0    0    1  \n",
       "Resources and complexity of solution have creat...           Yes   0    0    1  \n",
       "NaN                                                           No   1    0    0  \n",
       "NaN                                                           No   1    0    0  "
      ]
     },
     "execution_count": 23,
     "metadata": {},
     "output_type": "execute_result"
    }
   ],
   "source": [
    "df.head()"
   ]
  },
  {
   "cell_type": "code",
   "execution_count": 24,
   "id": "e696af78",
   "metadata": {},
   "outputs": [],
   "source": [
    "df = df.drop([\"Client Impact\"], axis=1)"
   ]
  },
  {
   "cell_type": "code",
   "execution_count": 25,
   "id": "1a559767",
   "metadata": {},
   "outputs": [
    {
     "data": {
      "text/html": [
       "<div>\n",
       "<style scoped>\n",
       "    .dataframe tbody tr th:only-of-type {\n",
       "        vertical-align: middle;\n",
       "    }\n",
       "\n",
       "    .dataframe tbody tr th {\n",
       "        vertical-align: top;\n",
       "    }\n",
       "\n",
       "    .dataframe thead th {\n",
       "        text-align: right;\n",
       "    }\n",
       "</style>\n",
       "<table border=\"1\" class=\"dataframe\">\n",
       "  <thead>\n",
       "    <tr style=\"text-align: right;\">\n",
       "      <th></th>\n",
       "      <th>Title</th>\n",
       "      <th>Event Type</th>\n",
       "      <th>No</th>\n",
       "      <th>TBD</th>\n",
       "      <th>Yes</th>\n",
       "    </tr>\n",
       "    <tr>\n",
       "      <th>Root Cause Description</th>\n",
       "      <th></th>\n",
       "      <th></th>\n",
       "      <th></th>\n",
       "      <th></th>\n",
       "      <th></th>\n",
       "    </tr>\n",
       "  </thead>\n",
       "  <tbody>\n",
       "    <tr>\n",
       "      <th>System maintenance</th>\n",
       "      <td>Update TracX for 2023</td>\n",
       "      <td>Project / General Oversight / Reporting</td>\n",
       "      <td>1</td>\n",
       "      <td>0</td>\n",
       "      <td>0</td>\n",
       "    </tr>\n",
       "    <tr>\n",
       "      <th>required by a client as it relates to OWCA activities</th>\n",
       "      <td>OWCA zurich survey (sustainability)</td>\n",
       "      <td>Client Identified Event / Issue / Inquiry</td>\n",
       "      <td>0</td>\n",
       "      <td>0</td>\n",
       "      <td>1</td>\n",
       "    </tr>\n",
       "    <tr>\n",
       "      <th>Resources and complexity of solution have created delays, implementatin in progress.</th>\n",
       "      <td>Network Pricing Parity TN HB 786</td>\n",
       "      <td>Self Identified Event / Issue</td>\n",
       "      <td>0</td>\n",
       "      <td>0</td>\n",
       "      <td>1</td>\n",
       "    </tr>\n",
       "    <tr>\n",
       "      <th>NaN</th>\n",
       "      <td>EP Investigation Case 186799</td>\n",
       "      <td>Self Identified Event / Issue</td>\n",
       "      <td>1</td>\n",
       "      <td>0</td>\n",
       "      <td>0</td>\n",
       "    </tr>\n",
       "    <tr>\n",
       "      <th>NaN</th>\n",
       "      <td>30066 Specialty Standard Product Approval - Di...</td>\n",
       "      <td>Project / General Oversight / Reporting</td>\n",
       "      <td>1</td>\n",
       "      <td>0</td>\n",
       "      <td>0</td>\n",
       "    </tr>\n",
       "  </tbody>\n",
       "</table>\n",
       "</div>"
      ],
      "text/plain": [
       "                                                                                                Title  \\\n",
       "Root Cause Description                                                                                  \n",
       "System maintenance                                                              Update TracX for 2023   \n",
       "required by a client as it relates to OWCA acti...                OWCA zurich survey (sustainability)   \n",
       "Resources and complexity of solution have creat...                   Network Pricing Parity TN HB 786   \n",
       "NaN                                                                      EP Investigation Case 186799   \n",
       "NaN                                                 30066 Specialty Standard Product Approval - Di...   \n",
       "\n",
       "                                                                                   Event Type  \\\n",
       "Root Cause Description                                                                          \n",
       "System maintenance                                    Project / General Oversight / Reporting   \n",
       "required by a client as it relates to OWCA acti...  Client Identified Event / Issue / Inquiry   \n",
       "Resources and complexity of solution have creat...              Self Identified Event / Issue   \n",
       "NaN                                                             Self Identified Event / Issue   \n",
       "NaN                                                   Project / General Oversight / Reporting   \n",
       "\n",
       "                                                    No  TBD  Yes  \n",
       "Root Cause Description                                            \n",
       "System maintenance                                   1    0    0  \n",
       "required by a client as it relates to OWCA acti...   0    0    1  \n",
       "Resources and complexity of solution have creat...   0    0    1  \n",
       "NaN                                                  1    0    0  \n",
       "NaN                                                  1    0    0  "
      ]
     },
     "execution_count": 25,
     "metadata": {},
     "output_type": "execute_result"
    }
   ],
   "source": [
    "df.head()"
   ]
  },
  {
   "cell_type": "code",
   "execution_count": 26,
   "id": "b7918db2",
   "metadata": {},
   "outputs": [],
   "source": [
    "df = df.drop([\"No\", \"TBD\"], axis =1)"
   ]
  },
  {
   "cell_type": "code",
   "execution_count": 27,
   "id": "aad938b4",
   "metadata": {},
   "outputs": [
    {
     "data": {
      "text/html": [
       "<div>\n",
       "<style scoped>\n",
       "    .dataframe tbody tr th:only-of-type {\n",
       "        vertical-align: middle;\n",
       "    }\n",
       "\n",
       "    .dataframe tbody tr th {\n",
       "        vertical-align: top;\n",
       "    }\n",
       "\n",
       "    .dataframe thead th {\n",
       "        text-align: right;\n",
       "    }\n",
       "</style>\n",
       "<table border=\"1\" class=\"dataframe\">\n",
       "  <thead>\n",
       "    <tr style=\"text-align: right;\">\n",
       "      <th></th>\n",
       "      <th>Title</th>\n",
       "      <th>Event Type</th>\n",
       "      <th>Yes</th>\n",
       "    </tr>\n",
       "    <tr>\n",
       "      <th>Root Cause Description</th>\n",
       "      <th></th>\n",
       "      <th></th>\n",
       "      <th></th>\n",
       "    </tr>\n",
       "  </thead>\n",
       "  <tbody>\n",
       "    <tr>\n",
       "      <th>System maintenance</th>\n",
       "      <td>Update TracX for 2023</td>\n",
       "      <td>Project / General Oversight / Reporting</td>\n",
       "      <td>0</td>\n",
       "    </tr>\n",
       "    <tr>\n",
       "      <th>required by a client as it relates to OWCA activities</th>\n",
       "      <td>OWCA zurich survey (sustainability)</td>\n",
       "      <td>Client Identified Event / Issue / Inquiry</td>\n",
       "      <td>1</td>\n",
       "    </tr>\n",
       "    <tr>\n",
       "      <th>Resources and complexity of solution have created delays, implementatin in progress.</th>\n",
       "      <td>Network Pricing Parity TN HB 786</td>\n",
       "      <td>Self Identified Event / Issue</td>\n",
       "      <td>1</td>\n",
       "    </tr>\n",
       "    <tr>\n",
       "      <th>NaN</th>\n",
       "      <td>EP Investigation Case 186799</td>\n",
       "      <td>Self Identified Event / Issue</td>\n",
       "      <td>0</td>\n",
       "    </tr>\n",
       "    <tr>\n",
       "      <th>NaN</th>\n",
       "      <td>30066 Specialty Standard Product Approval - Di...</td>\n",
       "      <td>Project / General Oversight / Reporting</td>\n",
       "      <td>0</td>\n",
       "    </tr>\n",
       "  </tbody>\n",
       "</table>\n",
       "</div>"
      ],
      "text/plain": [
       "                                                                                                Title  \\\n",
       "Root Cause Description                                                                                  \n",
       "System maintenance                                                              Update TracX for 2023   \n",
       "required by a client as it relates to OWCA acti...                OWCA zurich survey (sustainability)   \n",
       "Resources and complexity of solution have creat...                   Network Pricing Parity TN HB 786   \n",
       "NaN                                                                      EP Investigation Case 186799   \n",
       "NaN                                                 30066 Specialty Standard Product Approval - Di...   \n",
       "\n",
       "                                                                                   Event Type  \\\n",
       "Root Cause Description                                                                          \n",
       "System maintenance                                    Project / General Oversight / Reporting   \n",
       "required by a client as it relates to OWCA acti...  Client Identified Event / Issue / Inquiry   \n",
       "Resources and complexity of solution have creat...              Self Identified Event / Issue   \n",
       "NaN                                                             Self Identified Event / Issue   \n",
       "NaN                                                   Project / General Oversight / Reporting   \n",
       "\n",
       "                                                    Yes  \n",
       "Root Cause Description                                   \n",
       "System maintenance                                    0  \n",
       "required by a client as it relates to OWCA acti...    1  \n",
       "Resources and complexity of solution have creat...    1  \n",
       "NaN                                                   0  \n",
       "NaN                                                   0  "
      ]
     },
     "execution_count": 27,
     "metadata": {},
     "output_type": "execute_result"
    }
   ],
   "source": [
    "df.head()"
   ]
  },
  {
   "cell_type": "code",
   "execution_count": 28,
   "id": "df43e11e",
   "metadata": {},
   "outputs": [
    {
     "name": "stdout",
     "output_type": "stream",
     "text": [
      "<class 'pandas.core.frame.DataFrame'>\n",
      "Index: 3933 entries, System maintenance to Tufts employees are new to ORx and requested compliance meeting/presentation\n",
      "Data columns (total 3 columns):\n",
      " #   Column      Non-Null Count  Dtype \n",
      "---  ------      --------------  ----- \n",
      " 0   Title       3933 non-null   object\n",
      " 1   Event Type  3933 non-null   object\n",
      " 2   Yes         3933 non-null   uint8 \n",
      "dtypes: object(2), uint8(1)\n",
      "memory usage: 96.0+ KB\n"
     ]
    }
   ],
   "source": [
    "df.info()"
   ]
  },
  {
   "cell_type": "code",
   "execution_count": 29,
   "id": "9722e682",
   "metadata": {},
   "outputs": [],
   "source": [
    "labels[np.arange(len(df)), df['Yes'].values] = 1 # one-hot encoded target tensor\n"
   ]
  },
  {
   "cell_type": "code",
   "execution_count": 30,
   "id": "b6a5a450",
   "metadata": {},
   "outputs": [
    {
     "data": {
      "text/plain": [
       "array([[1., 0., 0.],\n",
       "       [0., 1., 0.],\n",
       "       [0., 1., 0.],\n",
       "       ...,\n",
       "       [1., 0., 0.],\n",
       "       [0., 1., 0.],\n",
       "       [0., 1., 0.]])"
      ]
     },
     "execution_count": 30,
     "metadata": {},
     "output_type": "execute_result"
    }
   ],
   "source": [
    "labels"
   ]
  },
  {
   "cell_type": "code",
   "execution_count": 31,
   "id": "a2698842",
   "metadata": {},
   "outputs": [
    {
     "data": {
      "text/plain": [
       "<TakeDataset element_spec=(TensorSpec(shape=(256,), dtype=tf.float64, name=None), TensorSpec(shape=(256,), dtype=tf.float64, name=None), TensorSpec(shape=(3,), dtype=tf.float64, name=None))>"
      ]
     },
     "execution_count": 31,
     "metadata": {},
     "output_type": "execute_result"
    }
   ],
   "source": [
    "# creating a data pipeline using tensorflow dataset utility, creates batches of data for easy loading...\n",
    "dataset = tf.data.Dataset.from_tensor_slices((X_input_ids, X_attn_masks, labels))\n",
    "dataset.take(1) # one sample data\n"
   ]
  },
  {
   "cell_type": "code",
   "execution_count": 32,
   "id": "0805e3df",
   "metadata": {},
   "outputs": [],
   "source": [
    "def Client_ImpactDatasetMapFunction(input_ids, attn_masks, labels):\n",
    "    return {\n",
    "        'input_ids': input_ids,\n",
    "        'attention_mask': attn_masks\n",
    "    }, labels\n"
   ]
  },
  {
   "cell_type": "code",
   "execution_count": 33,
   "id": "1be3037c",
   "metadata": {},
   "outputs": [],
   "source": [
    "dataset = dataset.map(Client_ImpactDatasetMapFunction) # converting to required format for tensorflow dataset \n"
   ]
  },
  {
   "cell_type": "code",
   "execution_count": 34,
   "id": "0bf0d172",
   "metadata": {},
   "outputs": [
    {
     "data": {
      "text/plain": [
       "<TakeDataset element_spec=({'input_ids': TensorSpec(shape=(256,), dtype=tf.float64, name=None), 'attention_mask': TensorSpec(shape=(256,), dtype=tf.float64, name=None)}, TensorSpec(shape=(3,), dtype=tf.float64, name=None))>"
      ]
     },
     "execution_count": 34,
     "metadata": {},
     "output_type": "execute_result"
    }
   ],
   "source": [
    "dataset.take(1)\n"
   ]
  },
  {
   "cell_type": "code",
   "execution_count": 35,
   "id": "0e3a9836",
   "metadata": {},
   "outputs": [],
   "source": [
    "dataset = dataset.shuffle(10000).batch(16, drop_remainder=True) # batch size, drop any left out tensor\n"
   ]
  },
  {
   "cell_type": "code",
   "execution_count": 36,
   "id": "cb592a1c",
   "metadata": {},
   "outputs": [
    {
     "data": {
      "text/plain": [
       "<TakeDataset element_spec=({'input_ids': TensorSpec(shape=(16, 256), dtype=tf.float64, name=None), 'attention_mask': TensorSpec(shape=(16, 256), dtype=tf.float64, name=None)}, TensorSpec(shape=(16, 3), dtype=tf.float64, name=None))>"
      ]
     },
     "execution_count": 36,
     "metadata": {},
     "output_type": "execute_result"
    }
   ],
   "source": [
    "dataset.take(1)\n"
   ]
  },
  {
   "cell_type": "code",
   "execution_count": 37,
   "id": "0ee15fee",
   "metadata": {},
   "outputs": [],
   "source": [
    "p = 0.8\n",
    "train_size = int((len(df)//16)*p) # for each 16 batch of data we will have len(df)//16 samples, take 80% of that for train.\n"
   ]
  },
  {
   "cell_type": "code",
   "execution_count": 38,
   "id": "2ca62591",
   "metadata": {},
   "outputs": [
    {
     "data": {
      "text/plain": [
       "196"
      ]
     },
     "execution_count": 38,
     "metadata": {},
     "output_type": "execute_result"
    }
   ],
   "source": [
    "train_size\n"
   ]
  },
  {
   "cell_type": "code",
   "execution_count": 39,
   "id": "c41ca146",
   "metadata": {},
   "outputs": [],
   "source": [
    "train_dataset = dataset.take(train_size)\n",
    "val_dataset = dataset.skip(train_size)\n"
   ]
  },
  {
   "cell_type": "code",
   "execution_count": 40,
   "id": "9bb8ba49",
   "metadata": {},
   "outputs": [],
   "source": [
    "from transformers import TFBertModel\n"
   ]
  },
  {
   "cell_type": "code",
   "execution_count": 41,
   "id": "dd632b23",
   "metadata": {},
   "outputs": [
    {
     "name": "stderr",
     "output_type": "stream",
     "text": [
      "Some weights of the PyTorch model were not used when initializing the TF 2.0 model TFBertModel: ['cls.predictions.bias', 'cls.predictions.transform.LayerNorm.bias', 'cls.seq_relationship.bias', 'cls.predictions.transform.dense.weight', 'cls.predictions.transform.LayerNorm.weight', 'cls.seq_relationship.weight', 'cls.predictions.transform.dense.bias']\n",
      "- This IS expected if you are initializing TFBertModel from a PyTorch model trained on another task or with another architecture (e.g. initializing a TFBertForSequenceClassification model from a BertForPreTraining model).\n",
      "- This IS NOT expected if you are initializing TFBertModel from a PyTorch model that you expect to be exactly identical (e.g. initializing a TFBertForSequenceClassification model from a BertForSequenceClassification model).\n",
      "All the weights of TFBertModel were initialized from the PyTorch model.\n",
      "If your task is similar to the task the model of the checkpoint was trained on, you can already use TFBertModel for predictions without further training.\n"
     ]
    }
   ],
   "source": [
    "model = TFBertModel.from_pretrained('bert-base-cased') # bert base model with pretrained weights\n"
   ]
  },
  {
   "cell_type": "code",
   "execution_count": 42,
   "id": "bddf2651",
   "metadata": {},
   "outputs": [
    {
     "name": "stdout",
     "output_type": "stream",
     "text": [
      "Model: \"model\"\n",
      "__________________________________________________________________________________________________\n",
      " Layer (type)                   Output Shape         Param #     Connected to                     \n",
      "==================================================================================================\n",
      " input_ids (InputLayer)         [(None, 256)]        0           []                               \n",
      "                                                                                                  \n",
      " attention_mask (InputLayer)    [(None, 256)]        0           []                               \n",
      "                                                                                                  \n",
      " bert (TFBertMainLayer)         TFBaseModelOutputWi  108310272   ['input_ids[0][0]',              \n",
      "                                thPoolingAndCrossAt               'attention_mask[0][0]']         \n",
      "                                tentions(last_hidde                                               \n",
      "                                n_state=(None, 256,                                               \n",
      "                                 768),                                                            \n",
      "                                 pooler_output=(Non                                               \n",
      "                                e, 768),                                                          \n",
      "                                 past_key_values=No                                               \n",
      "                                ne, hidden_states=N                                               \n",
      "                                one, attentions=Non                                               \n",
      "                                e, cross_attentions                                               \n",
      "                                =None)                                                            \n",
      "                                                                                                  \n",
      " intermediate_layer (Dense)     (None, 512)          393728      ['bert[0][1]']                   \n",
      "                                                                                                  \n",
      " output_layer (Dense)           (None, 3)            1539        ['intermediate_layer[0][0]']     \n",
      "                                                                                                  \n",
      "==================================================================================================\n",
      "Total params: 108,705,539\n",
      "Trainable params: 108,705,539\n",
      "Non-trainable params: 0\n",
      "__________________________________________________________________________________________________\n"
     ]
    }
   ],
   "source": [
    "# defining 2 input layers for input_ids and attn_masks\n",
    "input_ids = tf.keras.layers.Input(shape=(256,), name='input_ids', dtype='int32')\n",
    "attn_masks = tf.keras.layers.Input(shape=(256,), name='attention_mask', dtype='int32')\n",
    "\n",
    "bert_embds = model.bert(input_ids, attention_mask=attn_masks)[1] # 0 -> activation layer (3D), 1 -> pooled output layer (2D)\n",
    "intermediate_layer = tf.keras.layers.Dense(512, activation='relu', name='intermediate_layer')(bert_embds)\n",
    "output_layer = tf.keras.layers.Dense(3, activation='softmax', name='output_layer')(intermediate_layer) # softmax -> calcs probs of classes\n",
    "\n",
    "Client_Impact_model = tf.keras.Model(inputs=[input_ids, attn_masks], outputs=output_layer)\n",
    "Client_Impact_model.summary()\n"
   ]
  },
  {
   "cell_type": "code",
   "execution_count": 43,
   "id": "ed3578a6",
   "metadata": {},
   "outputs": [],
   "source": [
    "optim = tf.keras.optimizers.Adam(learning_rate=1e-5, decay=1e-6)\n",
    "loss_func = tf.keras.losses.CategoricalCrossentropy()\n",
    "acc = tf.keras.metrics.CategoricalAccuracy('accuracy')\n"
   ]
  },
  {
   "cell_type": "code",
   "execution_count": 44,
   "id": "ab2576c0",
   "metadata": {},
   "outputs": [],
   "source": [
    "Client_Impact_model.compile(optimizer=optim, loss=loss_func, metrics=[acc])\n"
   ]
  },
  {
   "cell_type": "code",
   "execution_count": null,
   "id": "d8871b81",
   "metadata": {},
   "outputs": [
    {
     "name": "stdout",
     "output_type": "stream",
     "text": [
      "Epoch 1/2\n",
      " 38/196 [====>.........................] - ETA: 1:28:09 - loss: 0.8118 - accuracy: 0.6053"
     ]
    }
   ],
   "source": [
    "hist = Client_Impact_model.fit(\n",
    "    train_dataset,\n",
    "    validation_data=val_dataset,\n",
    "    epochs=2\n",
    ")\n"
   ]
  },
  {
   "cell_type": "code",
   "execution_count": null,
   "id": "68952a44",
   "metadata": {},
   "outputs": [],
   "source": [
    "Client_Impact_model.save('Client_Impact_model')\n"
   ]
  },
  {
   "cell_type": "code",
   "execution_count": null,
   "id": "e0f4dc7e",
   "metadata": {},
   "outputs": [],
   "source": [
    "#Prediction\n",
    "Client_Impact_model = tf.keras.models.load_model('Client_Impact_model')\n",
    "\n",
    "tokenizer = BertTokenizer.from_pretrained('bert-base-cased')\n",
    "\n",
    "def prepare_data(input_text, tokenizer):\n",
    "    token = tokenizer.encode_plus(\n",
    "        input_text,\n",
    "        max_length=256, \n",
    "        truncation=True, \n",
    "        padding='max_length', \n",
    "        add_special_tokens=True,\n",
    "        return_tensors='tf'\n",
    "    )\n",
    "    return {\n",
    "        'input_ids': tf.cast(token.input_ids, tf.float64),\n",
    "        'attention_mask': tf.cast(token.attention_mask, tf.float64)\n",
    "    }\n",
    "\n",
    "def make_prediction(model, processed_data, classes=['0', '1']):\n",
    "    probs = model.predict(processed_data)[0]\n",
    "    return classes[np.argmax(probs)]\n",
    "     \n"
   ]
  },
  {
   "cell_type": "code",
   "execution_count": null,
   "id": "0e5f2fe5",
   "metadata": {},
   "outputs": [],
   "source": [
    "input_text = input('Enter Incident : ')\n",
    "processed_data = prepare_data(input_text, tokenizer)\n",
    "result = make_prediction(Client_Impact_model, processed_data=processed_data)\n",
    "print(f\"Predicted Client Impact: {result}\")\n",
    "     "
   ]
  },
  {
   "cell_type": "code",
   "execution_count": null,
   "id": "dc68ef8b",
   "metadata": {},
   "outputs": [],
   "source": []
  },
  {
   "cell_type": "code",
   "execution_count": null,
   "id": "92543182",
   "metadata": {},
   "outputs": [],
   "source": []
  }
 ],
 "metadata": {
  "kernelspec": {
   "display_name": "Python 3 (ipykernel)",
   "language": "python",
   "name": "python3"
  },
  "language_info": {
   "codemirror_mode": {
    "name": "ipython",
    "version": 3
   },
   "file_extension": ".py",
   "mimetype": "text/x-python",
   "name": "python",
   "nbconvert_exporter": "python",
   "pygments_lexer": "ipython3",
   "version": "3.9.12"
  }
 },
 "nbformat": 4,
 "nbformat_minor": 5
}
